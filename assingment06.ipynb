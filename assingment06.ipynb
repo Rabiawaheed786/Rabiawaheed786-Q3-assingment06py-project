{
  "nbformat": 4,
  "nbformat_minor": 0,
  "metadata": {
    "colab": {
      "provenance": [],
      "authorship_tag": "ABX9TyMz25BLZ0lF3q7V5GPHEha5",
      "include_colab_link": true
    },
    "kernelspec": {
      "name": "python3",
      "display_name": "Python 3"
    },
    "language_info": {
      "name": "python"
    }
  },
  "cells": [
    {
      "cell_type": "markdown",
      "metadata": {
        "id": "view-in-github",
        "colab_type": "text"
      },
      "source": [
        "<a href=\"https://colab.research.google.com/github/Rabiawaheed786/Rabiawaheed786-Q3-assingment06py-project/blob/main/assingment06.ipynb\" target=\"_parent\"><img src=\"https://colab.research.google.com/assets/colab-badge.svg\" alt=\"Open In Colab\"/></a>"
      ]
    },
    {
      "cell_type": "code",
      "source": [
        "#1. Using self\n",
        "# Assignment:\n",
        "# Create a class Student with attributes name and marks. Use the self keyword to initialize these values via a constructor.\n",
        "# Add a method display() that prints student details.\n",
        "\n",
        "\n",
        "class Student():\n",
        "    def __init__(self,name:str,marks:int):\n",
        "        self.name =name\n",
        "        self.marks = marks\n",
        "\n",
        "    def display(self):\n",
        "        print (f\"Name:{self.name} Marks:{self.marks}\")\n",
        "\n",
        "\n",
        "student = Student(\"Rabia\\n\",95)\n",
        "student.display()"
      ],
      "metadata": {
        "colab": {
          "base_uri": "https://localhost:8080/"
        },
        "id": "Bo3l6ObRTesR",
        "outputId": "7845bb99-44ea-42e3-d4d0-e0ab9f8934ad"
      },
      "execution_count": null,
      "outputs": [
        {
          "output_type": "stream",
          "name": "stdout",
          "text": [
            "Name:Rabia\n",
            " Marks:95\n"
          ]
        }
      ]
    },
    {
      "cell_type": "code",
      "source": [
        "\n",
        "# 2. Using cls\n",
        "# Assignment:\n",
        "# Create a class Counter that keeps track of how many objects have been created.\n",
        "# Use a class variable and a class method with cls to manage and display the count.\n",
        "\n",
        "\n",
        "class Counter():\n",
        "    counter = 0\n",
        "    @classmethod\n",
        "    def count(cls):\n",
        "      cls.counter += 1\n",
        "      return cls.counter\n",
        "\n",
        "counts1 = Counter()\n",
        "counts2 = Counter()\n",
        "print(counts1.count())\n",
        "print(counts2.count())\n"
      ],
      "metadata": {
        "colab": {
          "base_uri": "https://localhost:8080/"
        },
        "id": "LuHkETtfTekX",
        "outputId": "42994bdc-5529-4516-95bd-99007a05077c"
      },
      "execution_count": null,
      "outputs": [
        {
          "output_type": "stream",
          "name": "stdout",
          "text": [
            "1\n",
            "2\n"
          ]
        }
      ]
    },
    {
      "cell_type": "code",
      "source": [
        "\n",
        "# 3 - Public Variables and Methods\n",
        "# Assignment:\n",
        "# Create a class Car with a public variable brand and a public method start().\n",
        "# Instantiate the class and access both from outside the class.\n",
        "\n",
        "\n",
        "\n",
        "class Car():\n",
        "    def __init__ (self,brand):\n",
        "        self.brand = brand\n",
        "\n",
        "\n",
        "    def start(self):\n",
        "        print(f\"car brand is {self.brand}\")\n",
        "\n",
        "car = Car(\"toyata\")\n",
        "car.start()"
      ],
      "metadata": {
        "colab": {
          "base_uri": "https://localhost:8080/"
        },
        "id": "0FcVZqTBTeSR",
        "outputId": "136c21f8-4dd4-4c58-b994-52133d878724"
      },
      "execution_count": null,
      "outputs": [
        {
          "output_type": "stream",
          "name": "stdout",
          "text": [
            "car brand is toyata\n"
          ]
        }
      ]
    },
    {
      "cell_type": "code",
      "source": [
        "# 4 - Class Variables and Class Methods\n",
        "\n",
        "# Assignment:\n",
        "# Create a class Bank with a class variable bank_name.\n",
        "# Add a class method change_bank_name(cls, name) that allows changing the bank name.\n",
        "# Show that it affects all instances.\n",
        "\n",
        "\n",
        "class Bank():\n",
        "\n",
        "    bank_name =\"metro bank\"\n",
        "\n",
        "    @classmethod\n",
        "    def change_bank_name(cls,name):\n",
        "        cls.bank_name = name\n",
        "        print(f\"our bank name is {cls.bank_name} which is change by class method\")\n",
        "\n",
        "\n",
        "# Show that it affects all instances.\n",
        "bank1= Bank()\n",
        "bank2 = Bank()\n",
        "bank1.change_bank_name(\"habib bank limited\")\n",
        "\n",
        "\n",
        "print(bank1.bank_name)\n",
        "print(bank2.bank_name)\n",
        "print(Bank.bank_name)\n",
        "\n",
        "\n",
        "\n",
        "\n"
      ],
      "metadata": {
        "colab": {
          "base_uri": "https://localhost:8080/"
        },
        "id": "OH6GiGrCVKHs",
        "outputId": "00a60c5f-6867-47e7-c871-9e874a381441"
      },
      "execution_count": null,
      "outputs": [
        {
          "output_type": "stream",
          "name": "stdout",
          "text": [
            "our bank name is habib bank limited which is change by class method\n",
            "habib bank limited\n",
            "habib bank limited\n",
            "habib bank limited\n"
          ]
        }
      ]
    },
    {
      "cell_type": "code",
      "source": [
        "# 5. Static Variables and Static Methods\n",
        "# Assignment:\n",
        "# Create a class MathUtils with a static method add(a, b) that returns the sum.\n",
        "# No class or instance variables should be used.\n",
        "\n",
        "\n",
        "class MathUtils():\n",
        "\n",
        "    @staticmethod  # static na cls ko na self ko layta hain independent logic build krta hain\n",
        "    def add(a,b):\n",
        "      return a + b\n",
        "\n",
        "print(MathUtils.add(3,2))\n"
      ],
      "metadata": {
        "colab": {
          "base_uri": "https://localhost:8080/"
        },
        "id": "STMHFBrCVKkm",
        "outputId": "218d2fea-dd63-4446-caad-7e62197e7619"
      },
      "execution_count": null,
      "outputs": [
        {
          "output_type": "stream",
          "name": "stdout",
          "text": [
            "5\n"
          ]
        }
      ]
    },
    {
      "cell_type": "code",
      "source": [
        "\n",
        "# 6-  Constructors and Destructors\n",
        "# Assignment:\n",
        "# Create a class Logger that prints a message when an object is created (constructor) and\n",
        "# another message when it is destroyed (destructor).\n",
        "\n",
        "\n",
        "class Logger():\n",
        "    def __init__(self,message):\n",
        "        self.message = message\n",
        "        print(f\"Constructor : {self.message}\")\n",
        "\n",
        "\n",
        "    def __del__(self):\n",
        "        print(f\"Destructor: Object is destroyed\")\n",
        "\n",
        "\n",
        "logger = Logger(\"Object is Created\")\n",
        "\n",
        "\n",
        "del logger"
      ],
      "metadata": {
        "colab": {
          "base_uri": "https://localhost:8080/"
        },
        "id": "VrmWW26aVKn-",
        "outputId": "614a387b-1380-4cda-ebc9-ee805240cb45"
      },
      "execution_count": null,
      "outputs": [
        {
          "output_type": "stream",
          "name": "stdout",
          "text": [
            "Constructor : Object is Created\n",
            "Destructor: Object is destroyed\n"
          ]
        }
      ]
    },
    {
      "cell_type": "code",
      "source": [
        "\n",
        "\n",
        "#7- Access Modifiers: Public, Private, and Protected\n",
        "\n",
        "\n",
        "# Assignment:\n",
        "# Create a class Employee with:\n",
        "\n",
        "# a public variable name,\n",
        "\n",
        "# a protected variable _salary, and\n",
        "\n",
        "# a private variable __ssn.\n",
        "\n",
        "# Try accessing all three variables from an object of the class and document what happens.\n",
        "\n",
        "\n",
        "class Employee():\n",
        "    def __init__(self,name,salary,ssn):\n",
        "        self.name = name\n",
        "        self._salary = salary\n",
        "        self.__ssn = ssn\n",
        "\n",
        "\n",
        "\n",
        "    def detail(self):\n",
        "        print(f\"Name: {self.name} , Salary: {self._salary} , Ssn: {self.__ssn}\")\n",
        "\n",
        "\n",
        "employee= Employee(\"Rabiawaheed\", 100000, 1234567)\n",
        "print(employee.name)       #public variable\n",
        "print(employee._salary)   # protected variable\n",
        "# print(Employee.__ssn)   # public variable can not be access directly\n",
        "print(employee._Employee__ssn)  # This will work but it's not recommended -Python name mangling karta hai private variables ke liye.\n",
        "employee.detail()\n"
      ],
      "metadata": {
        "id": "-NtKDnC_VKsy"
      },
      "execution_count": null,
      "outputs": []
    },
    {
      "cell_type": "code",
      "source": [
        "# 8 - The super() Function\n",
        "# Assignment:\n",
        "\n",
        "# Create a class Person with a constructor that sets the name.\n",
        "# Inherit a class Teacher from it, add a subject field, and use super() to call the base class constructor.\n",
        "\n",
        "\n",
        "class Person():\n",
        "    def __init__(self,name):\n",
        "        self.name = name\n",
        "\n",
        "\n",
        "class Teacher(Person):\n",
        "    def __init__(self,name,subject):\n",
        "        super().__init__(name)\n",
        "        self.subject = subject\n",
        "\n",
        "    def inherit(self):\n",
        "        return f\"Person name is : {self.name} and subject is : {self.subject}\"\n",
        "\n",
        "\n",
        "person = Teacher(\"Rabiawaheed\", \"Python\")\n",
        "print(person.name)\n",
        "print(person.subject)\n",
        "print(person.inherit())\n",
        "\n",
        "\n"
      ],
      "metadata": {
        "colab": {
          "base_uri": "https://localhost:8080/"
        },
        "id": "teWuP67LVKwe",
        "outputId": "1d8ebf9a-316e-4d71-8982-2f59b3ac9808"
      },
      "execution_count": null,
      "outputs": [
        {
          "output_type": "stream",
          "name": "stdout",
          "text": [
            "Rabiawaheed\n",
            "Python\n",
            "Person name is : Rabiawaheed and subject is : Python\n"
          ]
        }
      ]
    },
    {
      "cell_type": "code",
      "source": [
        "# 9 -  Abstract Classes and Methods\n",
        "\n",
        "# Assignment:\n",
        "# Use the abc module to create an abstract class Shape with an abstract method area().\n",
        "# Inherit a class Rectangle that implements area().\n",
        "\n",
        "\n",
        "from abc import ABC , abstractmethod\n",
        "\n",
        "\n",
        "class Shape (ABC):\n",
        "\n",
        "\n",
        "    @abstractmethod\n",
        "    def area(self):\n",
        "        pass\n",
        "\n",
        "\n",
        "\n",
        "class Rectangle(Shape):\n",
        "    def __init__(self,height,width):\n",
        "       self.height = height\n",
        "       self.width = width\n",
        "\n",
        "\n",
        "    def area(self):\n",
        "        return self.height * self.width\n",
        "\n",
        "\n",
        "shape = Rectangle(5,3)\n",
        "print(shape.area())"
      ],
      "metadata": {
        "colab": {
          "base_uri": "https://localhost:8080/"
        },
        "id": "c7FWV8B9VKyV",
        "outputId": "d77671dd-c24a-4c0d-9445-68ab338b0a6c"
      },
      "execution_count": null,
      "outputs": [
        {
          "output_type": "stream",
          "name": "stdout",
          "text": [
            "15\n"
          ]
        }
      ]
    },
    {
      "cell_type": "code",
      "source": [
        "\n",
        "# 10 - Instance Methods\n",
        "\n",
        "# Assignment:\n",
        "# Create a class Dog with instance variables name and breed.\n",
        "# Add an instance method bark() that prints a message including the dog's name.\n",
        "\n",
        "\n",
        "class Dog ():\n",
        "  def __init__(self,name,breed):\n",
        "    self.name = name\n",
        "    self.breed = breed\n",
        "\n",
        "\n",
        "  def bark(self,sound=\"wooff\"):\n",
        "      self.sound = sound\n",
        "      print (f\"My dog name is {self.name} and he is a {self.breed} and he is barking like {self.sound}\")\n",
        "\n",
        "\n",
        "\n",
        "dog = Dog(\"bilwee\",\"German-Shepherd\")\n",
        "\n",
        "print(dog.bark())\n"
      ],
      "metadata": {
        "colab": {
          "base_uri": "https://localhost:8080/"
        },
        "id": "1q3Gj9a5VK1i",
        "outputId": "d8b3f43c-d74c-4f16-c0f1-ae4098719300"
      },
      "execution_count": null,
      "outputs": [
        {
          "output_type": "stream",
          "name": "stdout",
          "text": [
            "My dog name is bilwee and he is a German-Shepherd and he is barking like wooff\n",
            "None\n"
          ]
        }
      ]
    },
    {
      "cell_type": "code",
      "source": [
        "# 11 - Class Methods\n",
        "# Assignment:\n",
        "# Create a class Book with a class variable total_books. Add a class method increment_book_count()\n",
        "# to increase the count when a new book is added.\n",
        "\n",
        "\n",
        "class Book():\n",
        "    total_books = 0\n",
        "\n",
        "    @classmethod\n",
        "    def increment_book_count(cls):\n",
        "        cls.total_books += 1\n",
        "        return cls.total_books\n",
        "\n",
        "print(Book.increment_book_count())\n",
        "print(Book.increment_book_count())\n",
        "print(Book.increment_book_count())\n",
        "\n"
      ],
      "metadata": {
        "id": "a8xZrvMyVK82"
      },
      "execution_count": null,
      "outputs": []
    },
    {
      "cell_type": "code",
      "source": [
        "# 12 -  Static Methods\n",
        "# Assignment:\n",
        "# Create a class TemperatureConverter with a static\n",
        "# method celsius_to_fahrenheit(c) that returns the Fahrenheit value.\n",
        "\n",
        "\n",
        "class TemperatureConverter():\n",
        "\n",
        "\n",
        "    @staticmethod\n",
        "    def celsius_to_fahrenheit(c):\n",
        "\n",
        "        return (c * 9/5) + 32\n",
        "\n",
        "temp_c = 25\n",
        "temp_f = TemperatureConverter.celsius_to_fahrenheit(temp_c)\n",
        "\n",
        "print(temp_f)"
      ],
      "metadata": {
        "colab": {
          "base_uri": "https://localhost:8080/"
        },
        "id": "Ks1Y6i2vVLAQ",
        "outputId": "03776e72-3864-4233-a977-a40065a68c82"
      },
      "execution_count": null,
      "outputs": [
        {
          "output_type": "stream",
          "name": "stdout",
          "text": [
            "77.0\n"
          ]
        }
      ]
    },
    {
      "cell_type": "code",
      "source": [
        "# 13 - . Composition\n",
        "# Assignment:\n",
        "# Create a class Engine and a class Car. Use composition by passing an Engine object to the Car class during initialization.\n",
        "# Access a method of the Engine class via the Car class.\n",
        "\n",
        "\n",
        "class Engine():\n",
        "    def __init__(self, speed):\n",
        "        self.speed = speed\n",
        "\n",
        "    def start(self):\n",
        "       return f\"Engine with {self.speed} HP started.\"\n",
        "\n",
        "\n",
        "class Car():\n",
        "    def __init__(self,brand,speed):\n",
        "        self.brand = brand\n",
        "        self.engine = Engine(speed)  # Composition: Car HAS-A Engine\n",
        "\n",
        "\n",
        "    def drive(self):\n",
        "        return f\"Car with this name {self.brand}  is driving , {self.engine.start()}\"\n",
        "\n",
        "\n",
        "\n",
        "my_car = Car(\"toyata carola\", 150)\n",
        "print(my_car.drive())\n"
      ],
      "metadata": {
        "colab": {
          "base_uri": "https://localhost:8080/"
        },
        "id": "fSw2iCLAVLDt",
        "outputId": "d58222a2-3694-465d-cd85-97e81374ee57"
      },
      "execution_count": null,
      "outputs": [
        {
          "output_type": "stream",
          "name": "stdout",
          "text": [
            "Car with this name toyata carola  is driving , Engine with 150 HP started.\n"
          ]
        }
      ]
    },
    {
      "cell_type": "code",
      "source": [
        "\n",
        "# 14 -Aggregation\n",
        "# Assignment:\n",
        "# Create a class Department and a class Employee. Use aggregation by having a Department object\n",
        "# store a reference to an Employee object that exists independently of it.\n",
        "\n",
        "\n",
        "class Department():\n",
        "   def __init__(self,course_name):\n",
        "       self.course_name = course_name\n",
        "\n",
        "\n",
        "\n",
        "class Employee():\n",
        "    def __init__(self,name,age,department):\n",
        "        self.name = name\n",
        "        self.age = age\n",
        "        self.department = department #  # Aggregation: using existing Department object\n",
        "\n",
        "\n",
        "    def details(self):\n",
        "         return f\"Employee name is {self.name} , age is {self.age} and course is {self.department.course_name}\"\n",
        "\n",
        "\n",
        "department = Department(\"Python Programming\")   # Pehle Course ka object bana\n",
        "\n",
        "employee= Employee(\"Rabia\", 27 ,department)\n",
        "\n",
        "print(employee.details())  # Aggregation: Employee has-a Department object\n"
      ],
      "metadata": {
        "colab": {
          "base_uri": "https://localhost:8080/"
        },
        "id": "Aet9hDykVLGw",
        "outputId": "c7382649-9f11-4b06-868f-90239b638cee"
      },
      "execution_count": null,
      "outputs": [
        {
          "output_type": "stream",
          "name": "stdout",
          "text": [
            "Employee name is Rabia , age is 27 and course is Python Programming\n"
          ]
        }
      ]
    },
    {
      "cell_type": "code",
      "source": [
        "\n",
        "\n",
        "\n",
        "\n",
        "# 15 - Method Resolution Order (MRO) and Diamond Inheritance\n",
        "\n",
        "# Assignment:\n",
        "# Create four classes:\n",
        "\n",
        "# A with a method show(),\n",
        "\n",
        "# B and C that inherit from A and override show(),\n",
        "\n",
        "# D that inherits from both B and C.\n",
        "\n",
        "# Create an object of D and call show() to observe MRO.\n",
        "\n",
        "\n",
        "class A ():\n",
        "    def __init__(self):\n",
        "        pass\n",
        "\n",
        "    def show(self):\n",
        "        return f\"hello from class A\"\n",
        "\n",
        "\n",
        "class B (A):\n",
        "    def __init__(self):\n",
        "        pass\n",
        "\n",
        "\n",
        "  #override show () method from class A\n",
        "\n",
        "    def show(self):\n",
        "        return f\"hello from class B\"\n",
        "\n",
        "\n",
        "class C (A):\n",
        "    def __init__(self):\n",
        "        pass\n",
        "\n",
        "\n",
        "\n",
        "    #override show () method from class A\n",
        "\n",
        "\n",
        "    def show(self):\n",
        "        return f\"hello from class C\"\n",
        "\n",
        "\n",
        "\n",
        "class D (B,C):\n",
        "    def __init__(self):\n",
        "        pass\n",
        "\n",
        "\n",
        "\n",
        "\n",
        "classD = D()\n",
        "print(classD.show())# prints: hello from class D hello from class B\n",
        "#Explanation: The MRO of D is B, C, A. So it first calls show\n",
        "\n",
        "print(D.__mro__)"
      ],
      "metadata": {
        "colab": {
          "base_uri": "https://localhost:8080/"
        },
        "id": "7-6N7I3kVLKS",
        "outputId": "cc0b8c31-88a2-4c77-95ba-2cd7e5bf0212"
      },
      "execution_count": null,
      "outputs": [
        {
          "output_type": "stream",
          "name": "stdout",
          "text": [
            "hello from class B\n",
            "(<class '__main__.D'>, <class '__main__.B'>, <class '__main__.C'>, <class '__main__.A'>, <class 'object'>)\n"
          ]
        }
      ]
    },
    {
      "cell_type": "code",
      "source": [
        "# 16 -  Function Decorators\n",
        "# Assignment:\n",
        "# Write a decorator function log_function_call that prints \"Function is being called\" before a function executes.\n",
        "# Apply it to a function say_hello().\n",
        "\n",
        "\n",
        "def log_function_call(func):\n",
        "     def wraper():\n",
        "      print(\"Function is being called\")\n",
        "      return func()\n",
        "     return wraper\n",
        "\n",
        "# Applying decorator to a function\n",
        "@log_function_call\n",
        "\n",
        "def say_hello():\n",
        "     print (\"hello from decorator\" )\n",
        "\n",
        "\n",
        "say_hello()\n"
      ],
      "metadata": {
        "colab": {
          "base_uri": "https://localhost:8080/"
        },
        "id": "6JrbCsvkVLNW",
        "outputId": "82acad01-02be-4141-a45e-39634632f2d4"
      },
      "execution_count": null,
      "outputs": [
        {
          "output_type": "stream",
          "name": "stdout",
          "text": [
            "Function is being called\n",
            "hello from decorator\n"
          ]
        }
      ]
    },
    {
      "cell_type": "code",
      "source": [
        "# 17 - Class Decorators\n",
        "# Assignment:\n",
        "# Create a class decorator add_greeting that modifies a class to add a greet() method returning \"Hello from Decorator!\".\n",
        "# Apply it to a class Person.\n",
        "\n",
        "\n",
        "def add_greeting(cls):\n",
        "    def greet(self):\n",
        "        return \"Hello from Decorator!\"\n",
        "    cls.greet = greet\n",
        "    return cls\n",
        "\n",
        "\n",
        "@add_greeting\n",
        "class Person():\n",
        "    def __init__(self,name):\n",
        "        self.name = name\n",
        "\n",
        "\n",
        "p = Person(\"Rabiawaheed\")\n",
        "print(p.greet())"
      ],
      "metadata": {
        "colab": {
          "base_uri": "https://localhost:8080/"
        },
        "id": "69LLRRH5Z9Gd",
        "outputId": "66f72ad7-c7ac-4160-fd85-6bc32a1ea11f"
      },
      "execution_count": null,
      "outputs": [
        {
          "output_type": "stream",
          "name": "stdout",
          "text": [
            "Hello from Decorator!\n"
          ]
        }
      ]
    },
    {
      "cell_type": "code",
      "source": [
        "# 18 - Property Decorators: @property, @setter, and @deleter\n",
        "# Assignment:\n",
        "# Create a class Product with a private attribute _price. Use @property to get the price,\n",
        "# @price.setter to update it, and @price.deleter to delete it.\n",
        "\n",
        "\n",
        "class Product():\n",
        "\n",
        "    def __init__(self,price):\n",
        "        self._price = 20000\n",
        "\n",
        "    @property\n",
        "    def price(self):\n",
        "        return self._price\n",
        "\n",
        "    @price.setter\n",
        "    def price(self,value):\n",
        "        if value < 0:\n",
        "            print(\"Price can not be negative\")\n",
        "\n",
        "        else:\n",
        "            self._price = value\n",
        "\n",
        "\n",
        "    @price.deleter\n",
        "    def price(self):\n",
        "        print (f\"Product price is deleted\")\n",
        "        del self._price\n",
        "\n",
        "\n",
        "p= Product(20000)\n",
        "print(\"Price is:\" , p.price)\n",
        "\n",
        "p.price = 30000\n",
        "print(\"updated price is:\" , p.price)\n",
        "\n",
        "p.price = -1000\n",
        "\n",
        "del p.price"
      ],
      "metadata": {
        "colab": {
          "base_uri": "https://localhost:8080/"
        },
        "id": "y0w0f5G5Z9Kv",
        "outputId": "0e094494-0dc0-44f7-c53a-3b9fe47a08e8"
      },
      "execution_count": null,
      "outputs": [
        {
          "output_type": "stream",
          "name": "stdout",
          "text": [
            "Price is: 20000\n",
            "updated price is: 30000\n",
            "Price can not be negative\n",
            "Product price is deleted\n"
          ]
        }
      ]
    },
    {
      "cell_type": "code",
      "source": [
        "# 19 - callable() and __call__()\n",
        "# Assignment:\n",
        "# Create a class Multiplier with an __init__() to set a factor. Define a __call__() method that multiplies an input\n",
        "# by the factor. Test it with callable() and by calling the object like a function.\n",
        "\n",
        "\n",
        "class Multiplier():\n",
        "    def __init__(self,factor):\n",
        "        self.factor = factor\n",
        "\n",
        "\n",
        "    def __call__(self,value):\n",
        "        self.value = value\n",
        "        return self.factor * value  # multiply input value by factor\n",
        "\n",
        " #create object (instance)\n",
        "call = Multiplier(4)\n",
        "\n",
        "#access factor\n",
        "print(\"factor :\" , call.factor)\n",
        "\n",
        "\n",
        "## Check if object is callable\n",
        "print(\"Is callable : \" ,callable(call))\n",
        "\n",
        "\n",
        "## Call object like function\n",
        "\n",
        "print(\"Result of call(2) :\"  ,call(2))"
      ],
      "metadata": {
        "colab": {
          "base_uri": "https://localhost:8080/"
        },
        "id": "nETTNbK8Z9PI",
        "outputId": "c847d83d-9a3c-44bd-9e89-1a4019a879bc"
      },
      "execution_count": null,
      "outputs": [
        {
          "output_type": "stream",
          "name": "stdout",
          "text": [
            "factor : 4\n",
            "Is callable :  True\n",
            "Result of call(2) : 8\n"
          ]
        }
      ]
    },
    {
      "cell_type": "code",
      "source": [
        "# 20 -  Creating a Custom Exception\n",
        "\n",
        "# Assignment:\n",
        "# Create a custom exception InvalidAgeError.\n",
        "# Write a function check_age(age) that raises this exception if age < 18. Handle it with try...except.\n",
        "\n",
        "class InvalidAgeError(Exception):\n",
        "    pass\n",
        "\n",
        "\n",
        "def check_age(age):\n",
        "    if age < 18:\n",
        "        raise InvalidAgeError(\"Age must be atleast 18\")\n",
        "\n",
        "    else:\n",
        "        print(\"age is valid!\")\n",
        "\n",
        "  #Try...except to handle the exception\n",
        "try:\n",
        "    user_age = int(input(\"Enter your age : \"))\n",
        "    check_age(user_age)\n",
        "\n",
        "\n",
        "except InvalidAgeError as e:\n",
        "    print (\"custom Exception caused as \", e)\n",
        "\n",
        "\n",
        "except ValueError:\n",
        "    print(\"Please Enter a valid number\")\n"
      ],
      "metadata": {
        "colab": {
          "base_uri": "https://localhost:8080/"
        },
        "id": "EqnkFi5iZ_-0",
        "outputId": "6aa7e11d-5232-4bc9-dbad-d9c0cb1010f0"
      },
      "execution_count": null,
      "outputs": [
        {
          "output_type": "stream",
          "name": "stdout",
          "text": [
            "Enter your age : 17\n",
            "custom Exception caused as  Age must be atleast 18\n"
          ]
        }
      ]
    },
    {
      "cell_type": "code",
      "source": [
        "\n",
        "# 21 -  Make a Custom Class Iterable\n",
        "# Assignment:\n",
        "\n",
        "# Create a class Countdown that takes a start number. Implement __iter__() and __next__() to make the\n",
        "# object iterable in a for-loop, counting down to 0.\n",
        "\n",
        "\n",
        "class Countdown():\n",
        "    def __init__(self, start):\n",
        "        self.current = start\n",
        "\n",
        "\n",
        "    def __iter__(self):\n",
        "        return self    # Return the iterator itself\n",
        "\n",
        "    def __next__(self):   #\n",
        "        if self.current  < 0:\n",
        "            raise StopIteration\n",
        "        else:\n",
        "            val=self.current\n",
        "            self.current -= 1\n",
        "            return val\n",
        "\n",
        "\n",
        "\n",
        "for number in Countdown(6):\n",
        "    print(number)"
      ],
      "metadata": {
        "colab": {
          "base_uri": "https://localhost:8080/"
        },
        "id": "s6ZY7O3zaAC_",
        "outputId": "a705d062-b24c-47d8-f4f4-c94971244107"
      },
      "execution_count": null,
      "outputs": [
        {
          "output_type": "stream",
          "name": "stdout",
          "text": [
            "6\n",
            "5\n",
            "4\n",
            "3\n",
            "2\n",
            "1\n",
            "0\n"
          ]
        }
      ]
    },
    {
      "cell_type": "code",
      "source": [],
      "metadata": {
        "id": "vdLVPwTvaAFI"
      },
      "execution_count": null,
      "outputs": []
    },
    {
      "cell_type": "code",
      "source": [],
      "metadata": {
        "id": "z39hZwVhaAHI"
      },
      "execution_count": null,
      "outputs": []
    },
    {
      "cell_type": "code",
      "source": [],
      "metadata": {
        "id": "_4sXNIW2aAJc"
      },
      "execution_count": null,
      "outputs": []
    },
    {
      "cell_type": "code",
      "source": [],
      "metadata": {
        "id": "3oL7lSjtaAL2"
      },
      "execution_count": null,
      "outputs": []
    },
    {
      "cell_type": "code",
      "source": [],
      "metadata": {
        "id": "-PUOWQtSaAOa"
      },
      "execution_count": null,
      "outputs": []
    },
    {
      "cell_type": "code",
      "source": [],
      "metadata": {
        "id": "kZCwogKTaASW"
      },
      "execution_count": null,
      "outputs": []
    },
    {
      "cell_type": "code",
      "source": [],
      "metadata": {
        "id": "2GmCOMCOaAW_"
      },
      "execution_count": null,
      "outputs": []
    },
    {
      "cell_type": "code",
      "source": [],
      "metadata": {
        "id": "VILY4mI8aAZN"
      },
      "execution_count": null,
      "outputs": []
    },
    {
      "cell_type": "code",
      "source": [
        "\n"
      ],
      "metadata": {
        "id": "FrHb0pFUVLQq"
      },
      "execution_count": null,
      "outputs": []
    }
  ]
}